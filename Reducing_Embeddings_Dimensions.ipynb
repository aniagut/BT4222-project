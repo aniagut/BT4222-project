{
 "cells": [
  {
   "cell_type": "code",
   "id": "initial_id",
   "metadata": {
    "collapsed": true,
    "jupyter": {
     "is_executing": true
    }
   },
   "source": [
    "\n",
    "import pandas as pd\n",
    "from sklearn.decomposition import PCA\n",
    "import umap\n",
    "\n",
    "# Load embeddings\n",
    "embeddings_df = pd.read_parquet('./article_embeddings.parquet')\n",
    "article_ids = embeddings_df['article_id']\n",
    "embeddings = embeddings_df.drop('article_id', axis=1).values\n",
    "\n",
    "# Reduce dimensionality using PCA\n",
    "pca = PCA(n_components=50)  # Reduce to 50 components first to decrease complexity\n",
    "pca_result = pca.fit_transform(embeddings)\n",
    "print(f\"Explained Variance Ratio after PCA: {sum(pca.explained_variance_ratio_)}\")\n",
    "\n",
    "# Apply UMAP to reduce further to 16 dimensions\n",
    "umap_reducer = umap.UMAP(n_components=16, random_state=42)\n",
    "umap_result = umap_reducer.fit_transform(pca_result)\n",
    "\n",
    "# Create a DataFrame for the UMAP output\n",
    "umap_df = pd.DataFrame(umap_result, columns=[f'umap_{i}' for i in range(16)])\n",
    "umap_df['article_id'] = article_ids\n",
    "\n",
    "# Save the UMAP reduced embeddings\n",
    "umap_df.to_parquet('./reduced_embeddings.parquet')\n",
    "\n",
    "# Optionally, print or plot the UMAP result\n",
    "print(umap_df.head())\n"
   ],
   "outputs": [],
   "execution_count": null
  },
  {
   "metadata": {},
   "cell_type": "code",
   "outputs": [],
   "execution_count": null,
   "source": "",
   "id": "34a1f172da48a4ec"
  }
 ],
 "metadata": {
  "kernelspec": {
   "display_name": "Python 3",
   "language": "python",
   "name": "python3"
  },
  "language_info": {
   "codemirror_mode": {
    "name": "ipython",
    "version": 2
   },
   "file_extension": ".py",
   "mimetype": "text/x-python",
   "name": "python",
   "nbconvert_exporter": "python",
   "pygments_lexer": "ipython2",
   "version": "2.7.6"
  }
 },
 "nbformat": 4,
 "nbformat_minor": 5
}
