{
 "cells": [
  {
   "cell_type": "code",
   "execution_count": 82,
   "id": "initial_id",
   "metadata": {
    "ExecuteTime": {
     "end_time": "2024-10-23T09:07:02.227466Z",
     "start_time": "2024-10-23T09:07:00.731608Z"
    },
    "collapsed": true
   },
   "outputs": [],
   "source": [
    "import pandas as pd\n",
    "import xgboost as xgb\n",
    "from sklearn.model_selection import train_test_split"
   ]
  },
  {
   "cell_type": "code",
   "execution_count": 83,
   "id": "54cb9c5dd9347422",
   "metadata": {
    "ExecuteTime": {
     "end_time": "2024-10-23T09:07:02.531242Z",
     "start_time": "2024-10-23T09:07:02.229015Z"
    },
    "collapsed": false
   },
   "outputs": [],
   "source": [
    "df = pd.read_csv(\"xgboost_dataset.csv\")\n",
    "\n",
    "train_data, test_data = train_test_split(df, test_size=0.2)\n"
   ]
  },
  {
   "cell_type": "code",
   "execution_count": 84,
   "id": "67dbd5ce31c2d1b7",
   "metadata": {
    "ExecuteTime": {
     "end_time": "2024-10-23T09:07:06.212596Z",
     "start_time": "2024-10-23T09:07:06.196828Z"
    },
    "collapsed": false
   },
   "outputs": [
    {
     "data": {
      "text/html": [
       "<div>\n",
       "<style scoped>\n",
       "    .dataframe tbody tr th:only-of-type {\n",
       "        vertical-align: middle;\n",
       "    }\n",
       "\n",
       "    .dataframe tbody tr th {\n",
       "        vertical-align: top;\n",
       "    }\n",
       "\n",
       "    .dataframe thead th {\n",
       "        text-align: right;\n",
       "    }\n",
       "</style>\n",
       "<table border=\"1\" class=\"dataframe\">\n",
       "  <thead>\n",
       "    <tr style=\"text-align: right;\">\n",
       "      <th></th>\n",
       "      <th>session_id</th>\n",
       "      <th>user_id</th>\n",
       "      <th>article_id</th>\n",
       "      <th>clicked</th>\n",
       "      <th>sentiment_score</th>\n",
       "      <th>is_premium_user</th>\n",
       "      <th>readtime_avg</th>\n",
       "    </tr>\n",
       "  </thead>\n",
       "  <tbody>\n",
       "    <tr>\n",
       "      <th>195847</th>\n",
       "      <td>190540</td>\n",
       "      <td>1279115</td>\n",
       "      <td>9772957</td>\n",
       "      <td>0</td>\n",
       "      <td>0.8235</td>\n",
       "      <td>False</td>\n",
       "      <td>61.505750</td>\n",
       "    </tr>\n",
       "    <tr>\n",
       "      <th>53324</th>\n",
       "      <td>89359</td>\n",
       "      <td>2471663</td>\n",
       "      <td>9774517</td>\n",
       "      <td>0</td>\n",
       "      <td>0.9955</td>\n",
       "      <td>False</td>\n",
       "      <td>41.028038</td>\n",
       "    </tr>\n",
       "    <tr>\n",
       "      <th>12852</th>\n",
       "      <td>24089</td>\n",
       "      <td>1955113</td>\n",
       "      <td>9345280</td>\n",
       "      <td>0</td>\n",
       "      <td>0.9959</td>\n",
       "      <td>True</td>\n",
       "      <td>38.663100</td>\n",
       "    </tr>\n",
       "    <tr>\n",
       "      <th>194883</th>\n",
       "      <td>91992</td>\n",
       "      <td>301528</td>\n",
       "      <td>9769497</td>\n",
       "      <td>1</td>\n",
       "      <td>0.8852</td>\n",
       "      <td>False</td>\n",
       "      <td>20.974249</td>\n",
       "    </tr>\n",
       "    <tr>\n",
       "      <th>171729</th>\n",
       "      <td>41919</td>\n",
       "      <td>1462963</td>\n",
       "      <td>9770515</td>\n",
       "      <td>0</td>\n",
       "      <td>0.9877</td>\n",
       "      <td>False</td>\n",
       "      <td>179.093020</td>\n",
       "    </tr>\n",
       "  </tbody>\n",
       "</table>\n",
       "</div>"
      ],
      "text/plain": [
       "        session_id  user_id  article_id  clicked  sentiment_score  \\\n",
       "195847      190540  1279115     9772957        0           0.8235   \n",
       "53324        89359  2471663     9774517        0           0.9955   \n",
       "12852        24089  1955113     9345280        0           0.9959   \n",
       "194883       91992   301528     9769497        1           0.8852   \n",
       "171729       41919  1462963     9770515        0           0.9877   \n",
       "\n",
       "        is_premium_user  readtime_avg  \n",
       "195847            False     61.505750  \n",
       "53324             False     41.028038  \n",
       "12852              True     38.663100  \n",
       "194883            False     20.974249  \n",
       "171729            False    179.093020  "
      ]
     },
     "execution_count": 84,
     "metadata": {},
     "output_type": "execute_result"
    }
   ],
   "source": [
    "train_data.head()"
   ]
  },
  {
   "cell_type": "code",
   "execution_count": 85,
   "id": "9ea88788c12a1d8a",
   "metadata": {
    "ExecuteTime": {
     "end_time": "2024-10-23T08:12:16.059787Z",
     "start_time": "2024-10-23T08:12:16.055373Z"
    },
    "collapsed": false
   },
   "outputs": [],
   "source": [
    "\n",
    "\n",
    "# Features and labels for training\n",
    "feature_list = [\"sentiment_score\",\"is_premium_user\", \"readtime_avg\"]\n",
    "X_train = train_data[feature_list].values\n",
    "y_train = train_data['clicked'].values\n",
    "\n",
    "X_test = test_data[feature_list].values\n",
    "y_test = test_data['clicked'].values\n",
    "\n",
    "# Group (number of articles per session)\n",
    "group_train = train_data.groupby('session_id').size().to_list()\n",
    "group_test = test_data.groupby('session_id').size().to_list()\n"
   ]
  },
  {
   "cell_type": "code",
   "execution_count": 86,
   "id": "832405147f1a7aa9",
   "metadata": {
    "ExecuteTime": {
     "end_time": "2024-10-23T08:12:16.075790Z",
     "start_time": "2024-10-23T08:12:16.071543Z"
    },
    "collapsed": false
   },
   "outputs": [],
   "source": [
    "# Convert training data to DMatrix\n",
    "dtrain = xgb.DMatrix(X_train, label=y_train)\n",
    "dtrain.set_group(group_train)\n",
    "\n",
    "# Convert test data to DMatrix\n",
    "dtest = xgb.DMatrix(X_test)\n",
    "dtest.set_group(group_test)\n"
   ]
  },
  {
   "cell_type": "code",
   "execution_count": 87,
   "id": "112cb92ccf4518d0",
   "metadata": {
    "ExecuteTime": {
     "end_time": "2024-10-23T08:12:16.184195Z",
     "start_time": "2024-10-23T08:12:16.076942Z"
    },
    "collapsed": false
   },
   "outputs": [],
   "source": [
    "# Set parameters for XGBoost ranking\n",
    "params = {\n",
    "    'objective': 'rank:pairwise',  # Pairwise ranking objective\n",
    "    'eta': 0.1,  # Learning rate\n",
    "    'max_depth': 6,  # Max tree depth\n",
    "    'eval_metric': 'ndcg'  # Evaluation metric: Normalized Discounted Cumulative Gain\n",
    "}\n",
    "\n",
    "# Train the XGBoost model\n",
    "bst = xgb.train(params, dtrain, num_boost_round=500)\n"
   ]
  },
  {
   "cell_type": "code",
   "execution_count": 88,
   "id": "fc51fc96ae436541",
   "metadata": {
    "ExecuteTime": {
     "end_time": "2024-10-23T08:12:16.188236Z",
     "start_time": "2024-10-23T08:12:16.185321Z"
    },
    "collapsed": false
   },
   "outputs": [],
   "source": [
    "# Make predictions on the test set\n",
    "y_pred = bst.predict(dtest)\n",
    "\n",
    "# Add predictions to the test dataframe\n",
    "test_data['predicted_score'] = y_pred\n"
   ]
  },
  {
   "cell_type": "code",
   "execution_count": 89,
   "id": "69225442a03bde53",
   "metadata": {
    "ExecuteTime": {
     "end_time": "2024-10-23T08:12:16.194610Z",
     "start_time": "2024-10-23T08:12:16.189382Z"
    },
    "collapsed": false
   },
   "outputs": [
    {
     "name": "stdout",
     "output_type": "stream",
     "text": [
      "        session_id  article_id  predicted_score\n",
      "57013            1     9770082        -0.042609\n",
      "57014            1     9771367        -0.101735\n",
      "57015            1     9771576        -0.215594\n",
      "190553           8     9772963        -0.038218\n",
      "65734           13     9773364        -0.227060\n",
      "...            ...         ...              ...\n",
      "193931      212276     9773947        -0.047989\n",
      "193955      212276     9738729        -0.154330\n",
      "193962      212276     9746360        -1.451408\n",
      "193956      212276     9746360        -1.451408\n",
      "194114      212291     9772227         0.207687\n",
      "\n",
      "[40446 rows x 3 columns]\n"
     ]
    }
   ],
   "source": [
    "# Sort articles by predicted score within each session\n",
    "test_data = test_data.sort_values(by=['session_id', 'predicted_score'], ascending=[True, False])\n",
    "\n",
    "# Display the ranked articles\n",
    "print(test_data[['session_id', 'article_id', 'predicted_score']])\n",
    "\n",
    "\n"
   ]
  },
  {
   "cell_type": "code",
   "execution_count": 90,
   "id": "e043bbc8",
   "metadata": {},
   "outputs": [
    {
     "name": "stdout",
     "output_type": "stream",
     "text": [
      "NDCG Score: 0.7605003622392007\n",
      "MAP Score: 0.11572225535753783\n",
      "Precision at 30: 0.2\n",
      "MRR Score: 0.25\n"
     ]
    }
   ],
   "source": [
    "from sklearn.metrics import ndcg_score\n",
    "\n",
    "# Ensure the 'clicked' column represents the relevance\n",
    "ndcg = ndcg_score([test_data['clicked']], [test_data['predicted_score']])\n",
    "print(f\"NDCG Score: {ndcg}\")\n",
    "\n",
    "\n",
    "from sklearn.metrics import average_precision_score\n",
    "\n",
    "# Calculate MAP for the test set\n",
    "map_score = average_precision_score(test_data['clicked'], test_data['predicted_score'])\n",
    "print(f\"MAP Score: {map_score}\")\n",
    "\n",
    "\n",
    "def precision_at_k(test_data, k):\n",
    "    # Sort by predicted score in descending order\n",
    "    df_sorted = test_data.sort_values(by='predicted_score', ascending=False)\n",
    "    # Take the top K entries\n",
    "    top_k = df_sorted.head(k)\n",
    "    # Calculate precision at K\n",
    "    precision = sum(top_k['clicked']) / k\n",
    "    return precision\n",
    "\n",
    "k = 30  # You can adjust K\n",
    "p_at_k = precision_at_k(test_data, k)\n",
    "print(f\"Precision at {k}: {p_at_k}\")\n",
    "\n",
    "\n",
    "def reciprocal_rank(test_data):\n",
    "    df_sorted = test_data.sort_values(by='predicted_score', ascending=False)\n",
    "    for idx, clicked in enumerate(df_sorted['clicked'], 1):\n",
    "        if clicked == 1:  # First relevant article\n",
    "            return 1.0 / idx\n",
    "    return 0\n",
    "\n",
    "mrr = reciprocal_rank(test_data)\n",
    "print(f\"MRR Score: {mrr}\")\n",
    "\n"
   ]
  }
 ],
 "metadata": {
  "kernelspec": {
   "display_name": "bt4222",
   "language": "python",
   "name": "python3"
  },
  "language_info": {
   "codemirror_mode": {
    "name": "ipython",
    "version": 3
   },
   "file_extension": ".py",
   "mimetype": "text/x-python",
   "name": "python",
   "nbconvert_exporter": "python",
   "pygments_lexer": "ipython3",
   "version": "3.12.4"
  }
 },
 "nbformat": 4,
 "nbformat_minor": 5
}
