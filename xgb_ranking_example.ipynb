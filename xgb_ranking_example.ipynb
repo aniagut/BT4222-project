{
 "cells": [
  {
   "cell_type": "code",
   "execution_count": 36,
   "id": "initial_id",
   "metadata": {
    "collapsed": true,
    "ExecuteTime": {
     "end_time": "2024-10-23T08:12:16.041292Z",
     "start_time": "2024-10-23T08:12:16.038513Z"
    }
   },
   "outputs": [],
   "source": []
  },
  {
   "cell_type": "code",
   "outputs": [],
   "source": [
    "import pandas as pd\n",
    "import numpy as np\n",
    "\n",
    "# Generate a larger training dataset with more sessions and articles\n",
    "np.random.seed(42)  # For reproducibility\n",
    "\n",
    "# Constants\n",
    "num_sessions = 50  # Number of sessions\n",
    "articles_per_session = 5  # Number of articles per session\n",
    "total_rows = num_sessions * articles_per_session\n",
    "\n",
    "# Generate random session IDs\n",
    "session_ids = np.repeat(np.arange(1, num_sessions + 1), articles_per_session)\n",
    "\n",
    "# Generate random user IDs (50 unique users)\n",
    "user_ids = np.random.choice([f\"User_{i}\" for i in range(1, 51)], size=total_rows)\n",
    "\n",
    "# Generate random article IDs (200 unique articles)\n",
    "article_ids = np.random.choice(np.arange(1, 201), size=total_rows, replace=True)\n",
    "\n",
    "# Randomly choose 1 article per session as clicked (clicked = 1) and rest as not clicked (clicked = 0)\n",
    "clicked = np.zeros(total_rows)\n",
    "clicked[np.arange(0, total_rows, articles_per_session) + np.random.randint(0, articles_per_session, num_sessions)] = 1\n",
    "\n",
    "# Generate random feature values (e.g., 3 features per article)\n",
    "feature_1 = np.random.rand(total_rows)\n",
    "feature_2 = np.random.rand(total_rows)\n",
    "feature_3 = np.random.rand(total_rows)\n",
    "\n",
    "# Create the DataFrame\n",
    "train_data = pd.DataFrame({\n",
    "    'session_id': session_ids,\n",
    "    'user_id': user_ids,\n",
    "    'article_id': article_ids,\n",
    "    'clicked': clicked,\n",
    "    'feature_1': feature_1,\n",
    "    'feature_2': feature_2,\n",
    "    'feature_3': feature_3\n",
    "})\n"
   ],
   "metadata": {
    "collapsed": false,
    "ExecuteTime": {
     "end_time": "2024-10-23T08:12:16.053459Z",
     "start_time": "2024-10-23T08:12:16.045875Z"
    }
   },
   "id": "54cb9c5dd9347422",
   "execution_count": 37
  },
  {
   "cell_type": "code",
   "outputs": [],
   "source": [
    "import pandas as pd\n",
    "import xgboost as xgb\n",
    "\n",
    "\n",
    "# Features and labels for training\n",
    "X_train = train_data[['feature_1', 'feature_2']].values\n",
    "y_train = train_data['clicked'].values\n",
    "\n",
    "# Group (number of articles per session)\n",
    "group_train = train_data.groupby('session_id').size().to_list()\n"
   ],
   "metadata": {
    "collapsed": false,
    "ExecuteTime": {
     "end_time": "2024-10-23T08:12:16.059787Z",
     "start_time": "2024-10-23T08:12:16.055373Z"
    }
   },
   "id": "9ea88788c12a1d8a",
   "execution_count": 38
  },
  {
   "cell_type": "code",
   "outputs": [],
   "source": [
    "# Example test data (for prediction)\n",
    "test_data = pd.DataFrame({\n",
    "    'session_id': [125, 125, 125, 126, 126],\n",
    "    'user_id': ['C', 'C', 'C', 'D', 'D'],\n",
    "    'article_id': [301, 302, 303, 401, 402],\n",
    "    'clicked': [0, 0, 0, 0, 0],  # In real test data, you may not know the 'clicked' column\n",
    "    'feature_1': [0.6, 0.7, 0.8, 0.9, 1.0],\n",
    "    'feature_2': [1.6, 1.7, 1.8, 1.9, 2.0]\n",
    "})\n",
    "\n",
    "# Features for testing (same as for training)\n",
    "X_test = test_data[['feature_1', 'feature_2']].values\n",
    "\n",
    "# Group (number of articles per session) for the test set\n",
    "group_test = test_data.groupby('session_id').size().to_list()"
   ],
   "metadata": {
    "collapsed": false,
    "ExecuteTime": {
     "end_time": "2024-10-23T08:12:16.066372Z",
     "start_time": "2024-10-23T08:12:16.060903Z"
    }
   },
   "id": "330c93c4edfbb45a",
   "execution_count": 39
  },
  {
   "cell_type": "code",
   "outputs": [],
   "source": [],
   "metadata": {
    "collapsed": false,
    "ExecuteTime": {
     "end_time": "2024-10-23T08:12:16.070167Z",
     "start_time": "2024-10-23T08:12:16.068422Z"
    }
   },
   "id": "f2468eb3e2b9f833",
   "execution_count": 39
  },
  {
   "cell_type": "code",
   "outputs": [],
   "source": [
    "# Convert training data to DMatrix\n",
    "dtrain = xgb.DMatrix(X_train, label=y_train)\n",
    "dtrain.set_group(group_train)\n",
    "\n",
    "# Convert test data to DMatrix\n",
    "dtest = xgb.DMatrix(X_test)\n",
    "dtest.set_group(group_test)\n"
   ],
   "metadata": {
    "collapsed": false,
    "ExecuteTime": {
     "end_time": "2024-10-23T08:12:16.075790Z",
     "start_time": "2024-10-23T08:12:16.071543Z"
    }
   },
   "id": "832405147f1a7aa9",
   "execution_count": 40
  },
  {
   "cell_type": "code",
   "outputs": [],
   "source": [
    "# Set parameters for XGBoost ranking\n",
    "params = {\n",
    "    'objective': 'rank:pairwise',  # Pairwise ranking objective\n",
    "    'eta': 0.1,  # Learning rate\n",
    "    'max_depth': 6,  # Max tree depth\n",
    "    'eval_metric': 'ndcg'  # Evaluation metric: Normalized Discounted Cumulative Gain\n",
    "}\n",
    "\n",
    "# Train the XGBoost model\n",
    "bst = xgb.train(params, dtrain, num_boost_round=100)\n"
   ],
   "metadata": {
    "collapsed": false,
    "ExecuteTime": {
     "end_time": "2024-10-23T08:12:16.184195Z",
     "start_time": "2024-10-23T08:12:16.076942Z"
    }
   },
   "id": "112cb92ccf4518d0",
   "execution_count": 41
  },
  {
   "cell_type": "code",
   "outputs": [],
   "source": [
    "# Make predictions on the test set\n",
    "y_pred = bst.predict(dtest)\n",
    "\n",
    "# Add predictions to the test dataframe\n",
    "test_data['predicted_score'] = y_pred\n"
   ],
   "metadata": {
    "collapsed": false,
    "ExecuteTime": {
     "end_time": "2024-10-23T08:12:16.188236Z",
     "start_time": "2024-10-23T08:12:16.185321Z"
    }
   },
   "id": "fc51fc96ae436541",
   "execution_count": 42
  },
  {
   "cell_type": "code",
   "outputs": [
    {
     "name": "stdout",
     "output_type": "stream",
     "text": [
      "   session_id  article_id  predicted_score\n",
      "0         125         301        -1.539045\n",
      "1         125         302        -2.029291\n",
      "2         125         303        -2.162460\n",
      "3         126         401         1.167572\n",
      "4         126         402        -1.727297\n"
     ]
    }
   ],
   "source": [
    "# Sort articles by predicted score within each session\n",
    "test_data = test_data.sort_values(by=['session_id', 'predicted_score'], ascending=[True, False])\n",
    "\n",
    "# Display the ranked articles\n",
    "print(test_data[['session_id', 'article_id', 'predicted_score']])\n"
   ],
   "metadata": {
    "collapsed": false,
    "ExecuteTime": {
     "end_time": "2024-10-23T08:12:16.194610Z",
     "start_time": "2024-10-23T08:12:16.189382Z"
    }
   },
   "id": "69225442a03bde53",
   "execution_count": 43
  }
 ],
 "metadata": {
  "kernelspec": {
   "display_name": "Python 3",
   "language": "python",
   "name": "python3"
  },
  "language_info": {
   "codemirror_mode": {
    "name": "ipython",
    "version": 2
   },
   "file_extension": ".py",
   "mimetype": "text/x-python",
   "name": "python",
   "nbconvert_exporter": "python",
   "pygments_lexer": "ipython2",
   "version": "2.7.6"
  }
 },
 "nbformat": 4,
 "nbformat_minor": 5
}
