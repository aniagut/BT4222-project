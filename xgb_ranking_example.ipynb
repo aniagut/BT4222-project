{
 "cells": [
  {
   "cell_type": "code",
   "execution_count": 47,
   "id": "initial_id",
   "metadata": {
    "ExecuteTime": {
     "end_time": "2024-10-23T09:07:02.227466Z",
     "start_time": "2024-10-23T09:07:00.731608Z"
    },
    "collapsed": true
   },
   "outputs": [],
   "source": [
    "import pandas as pd\n",
    "import xgboost as xgb\n",
    "from sklearn.model_selection import train_test_split\n",
    "from metrics import * "
   ]
  },
  {
   "cell_type": "code",
   "execution_count": 48,
   "id": "54cb9c5dd9347422",
   "metadata": {
    "ExecuteTime": {
     "end_time": "2024-10-23T09:07:02.531242Z",
     "start_time": "2024-10-23T09:07:02.229015Z"
    },
    "collapsed": false
   },
   "outputs": [
    {
     "name": "stdout",
     "output_type": "stream",
     "text": [
      "202230\n"
     ]
    }
   ],
   "source": [
    "df = pd.read_parquet(\"xgboost_dataset_ebnerd_small.parquet\")\n",
    "print(len(df))\n",
    "train_data, test_data = train_test_split(df, test_size=0.2)\n"
   ]
  },
  {
   "cell_type": "code",
   "execution_count": 49,
   "id": "67dbd5ce31c2d1b7",
   "metadata": {
    "ExecuteTime": {
     "end_time": "2024-10-23T09:07:06.212596Z",
     "start_time": "2024-10-23T09:07:06.196828Z"
    },
    "collapsed": false
   },
   "outputs": [
    {
     "data": {
      "text/html": [
       "<div>\n",
       "<style scoped>\n",
       "    .dataframe tbody tr th:only-of-type {\n",
       "        vertical-align: middle;\n",
       "    }\n",
       "\n",
       "    .dataframe tbody tr th {\n",
       "        vertical-align: top;\n",
       "    }\n",
       "\n",
       "    .dataframe thead th {\n",
       "        text-align: right;\n",
       "    }\n",
       "</style>\n",
       "<table border=\"1\" class=\"dataframe\">\n",
       "  <thead>\n",
       "    <tr style=\"text-align: right;\">\n",
       "      <th></th>\n",
       "      <th>session_id</th>\n",
       "      <th>user_id</th>\n",
       "      <th>article_id</th>\n",
       "      <th>clicked</th>\n",
       "      <th>sentiment_score</th>\n",
       "      <th>is_premium_user</th>\n",
       "      <th>readtime_avg</th>\n",
       "    </tr>\n",
       "  </thead>\n",
       "  <tbody>\n",
       "    <tr>\n",
       "      <th>144904</th>\n",
       "      <td>62813</td>\n",
       "      <td>2378157</td>\n",
       "      <td>9771151</td>\n",
       "      <td>False</td>\n",
       "      <td>0.9856</td>\n",
       "      <td>True</td>\n",
       "      <td>0.0</td>\n",
       "    </tr>\n",
       "    <tr>\n",
       "      <th>88107</th>\n",
       "      <td>168675</td>\n",
       "      <td>1218901</td>\n",
       "      <td>9771223</td>\n",
       "      <td>False</td>\n",
       "      <td>0.7164</td>\n",
       "      <td>False</td>\n",
       "      <td>0.0</td>\n",
       "    </tr>\n",
       "    <tr>\n",
       "      <th>200159</th>\n",
       "      <td>94848</td>\n",
       "      <td>477103</td>\n",
       "      <td>9771576</td>\n",
       "      <td>True</td>\n",
       "      <td>0.9863</td>\n",
       "      <td>False</td>\n",
       "      <td>0.0</td>\n",
       "    </tr>\n",
       "    <tr>\n",
       "      <th>183042</th>\n",
       "      <td>162934</td>\n",
       "      <td>1845202</td>\n",
       "      <td>9769624</td>\n",
       "      <td>False</td>\n",
       "      <td>0.7449</td>\n",
       "      <td>False</td>\n",
       "      <td>0.0</td>\n",
       "    </tr>\n",
       "    <tr>\n",
       "      <th>124011</th>\n",
       "      <td>108143</td>\n",
       "      <td>470094</td>\n",
       "      <td>9771903</td>\n",
       "      <td>False</td>\n",
       "      <td>0.9930</td>\n",
       "      <td>False</td>\n",
       "      <td>0.0</td>\n",
       "    </tr>\n",
       "  </tbody>\n",
       "</table>\n",
       "</div>"
      ],
      "text/plain": [
       "        session_id  user_id  article_id  clicked  sentiment_score  \\\n",
       "144904       62813  2378157     9771151    False           0.9856   \n",
       "88107       168675  1218901     9771223    False           0.7164   \n",
       "200159       94848   477103     9771576     True           0.9863   \n",
       "183042      162934  1845202     9769624    False           0.7449   \n",
       "124011      108143   470094     9771903    False           0.9930   \n",
       "\n",
       "        is_premium_user  readtime_avg  \n",
       "144904             True           0.0  \n",
       "88107             False           0.0  \n",
       "200159            False           0.0  \n",
       "183042            False           0.0  \n",
       "124011            False           0.0  "
      ]
     },
     "execution_count": 49,
     "metadata": {},
     "output_type": "execute_result"
    }
   ],
   "source": [
    "train_data.head()"
   ]
  },
  {
   "cell_type": "code",
   "execution_count": 50,
   "id": "9ea88788c12a1d8a",
   "metadata": {
    "ExecuteTime": {
     "end_time": "2024-10-23T08:12:16.059787Z",
     "start_time": "2024-10-23T08:12:16.055373Z"
    },
    "collapsed": false
   },
   "outputs": [],
   "source": [
    "\n",
    "\n",
    "# Features and labels for training\n",
    "feature_list = [\"sentiment_score\",\"is_premium_user\", \"readtime_avg\"]\n",
    "X_train = train_data[feature_list].values\n",
    "y_train = train_data['clicked'].values\n",
    "\n",
    "X_test = test_data[feature_list].values\n",
    "y_test = test_data['clicked'].values\n",
    "\n",
    "# Group (number of articles per session)\n",
    "group_train = train_data.groupby('session_id').size().to_list()\n",
    "group_test = test_data.groupby('session_id').size().to_list()\n"
   ]
  },
  {
   "cell_type": "code",
   "execution_count": 51,
   "id": "112cb92ccf4518d0",
   "metadata": {
    "ExecuteTime": {
     "end_time": "2024-10-23T08:12:16.184195Z",
     "start_time": "2024-10-23T08:12:16.076942Z"
    },
    "collapsed": false
   },
   "outputs": [],
   "source": [
    "# Convert training data to DMatrix\n",
    "dtrain = xgb.DMatrix(X_train, label=y_train)\n",
    "dtrain.set_group(group_train)\n",
    "\n",
    "# Convert test data to DMatrix\n",
    "dtest = xgb.DMatrix(X_test)\n",
    "dtest.set_group(group_test)\n",
    "\n",
    "\n",
    "# Set parameters for XGBoost ranking\n",
    "params = {\n",
    "    'objective': 'rank:pairwise',  # Pairwise ranking objective\n",
    "    'eta': 0.1,  # Learning rate\n",
    "    'max_depth': 6,  # Max tree depth\n",
    "    'eval_metric': 'ndcg'  # Evaluation metric: Normalized Discounted Cumulative Gain\n",
    "}\n",
    "\n",
    "# Train the XGBoost model\n",
    "bst = xgb.train(params, dtrain, num_boost_round=500)\n"
   ]
  },
  {
   "cell_type": "code",
   "execution_count": 52,
   "id": "fc51fc96ae436541",
   "metadata": {
    "ExecuteTime": {
     "end_time": "2024-10-23T08:12:16.188236Z",
     "start_time": "2024-10-23T08:12:16.185321Z"
    },
    "collapsed": false
   },
   "outputs": [],
   "source": [
    "# Make predictions on the test set\n",
    "y_pred = bst.predict(dtest)\n",
    "\n",
    "# Add predictions to the test dataframe\n",
    "test_data['predicted_score'] = y_pred\n"
   ]
  },
  {
   "cell_type": "code",
   "execution_count": 53,
   "id": "69225442a03bde53",
   "metadata": {
    "ExecuteTime": {
     "end_time": "2024-10-23T08:12:16.194610Z",
     "start_time": "2024-10-23T08:12:16.189382Z"
    },
    "collapsed": false
   },
   "outputs": [
    {
     "name": "stdout",
     "output_type": "stream",
     "text": [
      "        session_id  article_id  predicted_score\n",
      "3643            22     9768866         0.955214\n",
      "3640            22     9775493        -0.429968\n",
      "3647            22     7213923        -0.551562\n",
      "77247           24     9776041         0.039638\n",
      "77244           24     9775673        -0.151200\n",
      "...            ...         ...              ...\n",
      "193950      212276     9774020        -0.144959\n",
      "193951      212276     9770028        -0.478744\n",
      "193929      212276     9769624        -0.533289\n",
      "194106      212291     9772433        -0.288509\n",
      "194108      212291     9391394        -1.306868\n",
      "\n",
      "[40446 rows x 3 columns]\n"
     ]
    }
   ],
   "source": [
    "# Sort articles by predicted score within each session\n",
    "test_data = test_data.sort_values(by=['session_id', 'predicted_score'], ascending=[True, False])\n",
    "\n",
    "# Display the ranked articles\n",
    "print(test_data[['session_id', 'article_id', 'predicted_score']])\n",
    "\n",
    "\n"
   ]
  },
  {
   "cell_type": "code",
   "execution_count": 54,
   "id": "e043bbc8",
   "metadata": {},
   "outputs": [
    {
     "name": "stdout",
     "output_type": "stream",
     "text": [
      "               AUC  MRR    NDCG@5   NDCG@10\n",
      "session_id                                 \n",
      "22             NaN  0.0  0.000000  0.000000\n",
      "24             NaN  0.0  0.000000  0.000000\n",
      "32             NaN  1.0  1.000000  1.000000\n",
      "279            NaN  0.0  0.000000  0.000000\n",
      "280            NaN  0.0  0.000000  0.000000\n",
      "...            ...  ...       ...       ...\n",
      "212004      0.4375  0.5  0.386853  0.564092\n",
      "212185      1.0000  1.0  1.000000  1.000000\n",
      "212232         NaN  0.0  0.000000  0.000000\n",
      "212276         NaN  0.0  0.000000  0.000000\n",
      "212291         NaN  0.0  0.000000  0.000000\n",
      "\n",
      "[8458 rows x 4 columns]\n"
     ]
    },
    {
     "name": "stderr",
     "output_type": "stream",
     "text": [
      "/var/folders/81/jf2m8tyj02q6bhybvrfzfw_c0000gn/T/ipykernel_46775/2882871820.py:1: DeprecationWarning: DataFrameGroupBy.apply operated on the grouping columns. This behavior is deprecated, and in a future version of pandas the grouping columns will be excluded from the operation. Either pass `include_groups=False` to exclude the groupings or explicitly select the grouping columns after groupby to silence this warning.\n",
      "  results = test_data.groupby('session_id', group_keys=False).apply(lambda x: pd.Series({\n"
     ]
    }
   ],
   "source": [
    "\n",
    "results = test_data.groupby('session_id', group_keys=False).apply(lambda x: pd.Series({\n",
    "    'AUC': calculate_auc(x),\n",
    "    'MRR': calculate_mrr(x),\n",
    "    'NDCG@5': calculate_ndcg(x, 5),\n",
    "    'NDCG@10': calculate_ndcg(x, 10)\n",
    "}))\n",
    "\n",
    "print(results)\n"
   ]
  }
 ],
 "metadata": {
  "kernelspec": {
   "display_name": "bt4222",
   "language": "python",
   "name": "python3"
  },
  "language_info": {
   "codemirror_mode": {
    "name": "ipython",
    "version": 3
   },
   "file_extension": ".py",
   "mimetype": "text/x-python",
   "name": "python",
   "nbconvert_exporter": "python",
   "pygments_lexer": "ipython3",
   "version": "3.12.4"
  }
 },
 "nbformat": 4,
 "nbformat_minor": 5
}
