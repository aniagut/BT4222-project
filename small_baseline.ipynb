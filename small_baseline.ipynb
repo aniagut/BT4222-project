{
 "cells": [
  {
   "cell_type": "code",
   "execution_count": null,
   "metadata": {
    "id": "F2FiqAaDBw1T"
   },
   "source": [
    "import pandas as pd\n",
    "from sklearn.preprocessing import LabelEncoder, StandardScaler\n",
    "import numpy as np\n",
    "import random\n",
    "import tensorflow as tf\n",
    "from tensorflow.keras.models import Model\n",
    "from tensorflow.keras.layers import Input, Embedding, Concatenate, Dense, Flatten, TextVectorization, Attention\n",
    "from sklearn.model_selection import train_test_split\n",
    "from tensorflow.keras import mixed_precision, layers, metrics, backend as K, regularizers\n",
    "from tensorflow.keras.callbacks import EarlyStopping, TensorBoard\n",
    "import datetime\n",
    "from sklearn.decomposition import TruncatedSVD\n",
    "from sklearn.metrics import roc_auc_score\n",
    "from collections import Counter\n",
    "import matplotlib.pyplot as plt\n",
    "import seaborn as sns\n",
    "from sklearn.utils.class_weight import compute_class_weight\n",
    "from sklearn.metrics import precision_recall_curve\n",
    "mixed_precision.set_global_policy('mixed_float16')"
   ],
   "outputs": []
  },
  {
   "cell_type": "code",
   "execution_count": null,
   "metadata": {
    "id": "NNOK8_m0CnlD"
   },
   "source": [
    "# load datasets\n",
    "test_df = pd.read_parquet(\"test_dataset_ebnerd_small.parquet\")\n",
    "train_df = pd.read_parquet(\"train_dataset_ebnerd_small.parquet\")\n",
    "val_df = pd.read_parquet(\"val_dataset_ebnerd_small.parquet\")"
   ],
   "outputs": []
  },
  {
   "cell_type": "code",
   "execution_count": null,
   "metadata": {
    "colab": {
     "base_uri": "https://localhost:8080/",
     "height": 255
    },
    "id": "Q3EE-JhvCrhZ",
    "outputId": "072c3d45-95e2-4e89-c055-52c0bd03eed5"
   },
   "source": [
    "test_df.head()"
   ],
   "outputs": []
  },
  {
   "cell_type": "code",
   "execution_count": null,
   "metadata": {
    "colab": {
     "base_uri": "https://localhost:8080/"
    },
    "id": "mpGeuYB1Szxg",
    "outputId": "f1b82dc4-f933-4750-d89e-d94715473644"
   },
   "source": [
    "train_df.info()"
   ],
   "outputs": []
  },
  {
   "cell_type": "code",
   "execution_count": null,
   "metadata": {
    "colab": {
     "base_uri": "https://localhost:8080/",
     "height": 255
    },
    "id": "f_N-2jMFQ_nA",
    "outputId": "f44e392e-32ab-47c8-8732-5132342afbbb"
   },
   "source": [
    "train_df.head()"
   ],
   "outputs": []
  },
  {
   "cell_type": "code",
   "execution_count": null,
   "metadata": {
    "colab": {
     "base_uri": "https://localhost:8080/",
     "height": 255
    },
    "id": "gqEe6OoDRCbr",
    "outputId": "2b121603-6fef-4a3a-ca7c-20848d1bfdaf"
   },
   "source": [
    "val_df.head()"
   ],
   "outputs": []
  },
  {
   "cell_type": "code",
   "execution_count": null,
   "metadata": {
    "colab": {
     "base_uri": "https://localhost:8080/"
    },
    "id": "dhKEeDclDF6P",
    "outputId": "6eea1f62-d912-4f9b-b066-4e62c51212bf"
   },
   "source": [
    "print(f\"Train set size: {len(train_df)} samples\")\n",
    "print(f\"Test set size: {len(test_df)} samples\")\n",
    "print(f\"Validation set size: {len(val_df)} samples\")"
   ],
   "outputs": []
  },
  {
   "cell_type": "code",
   "execution_count": null,
   "metadata": {
    "colab": {
     "base_uri": "https://localhost:8080/"
    },
    "id": "Wcg3SE1-MwOG",
    "outputId": "0bf8279e-4772-4f77-c1ab-7beb4e4daf66"
   },
   "source": [
    "# data preparation\n",
    "target = [\"clicked\"]\n",
    "ids = [\"impression_id\", \"session_id\", \"article_id\", \"user_id\"]\n",
    "excluded_columns = target + ids\n",
    "\n",
    "categorical_columns = train_df.select_dtypes(include=['object', 'category']).columns.tolist()\n",
    "boolean_columns = train_df.select_dtypes(include=['bool']).columns.tolist()\n",
    "boolean_columns = [col for col in boolean_columns if col not in excluded_columns]\n",
    "numerical_columns = [col for col in train_df.columns if col not in excluded_columns + categorical_columns + boolean_columns]\n",
    "\n",
    "feature_list = list(set(categorical_columns + boolean_columns + numerical_columns))\n",
    "\n",
    "print(\"Features used for modeling:\", feature_list)"
   ],
   "outputs": []
  },
  {
   "cell_type": "code",
   "execution_count": null,
   "metadata": {
    "id": "QKPGMAx-h_J9"
   },
   "source": [
    "# encoding categorical columns\n",
    "for col in categorical_columns:\n",
    "    le = LabelEncoder()\n",
    "    train_df[col] = le.fit_transform(train_df[col])\n",
    "    val_df[col] = le.transform(val_df[col])\n",
    "    test_df[col] = le.transform(test_df[col])"
   ],
   "outputs": []
  },
  {
   "cell_type": "code",
   "execution_count": null,
   "metadata": {
    "id": "EItsTHJeUQ-1"
   },
   "source": [
    "# normalize numerical features\n",
    "scaler = StandardScaler()\n",
    "train_df[numerical_columns] = scaler.fit_transform(train_df[numerical_columns])\n",
    "val_df[numerical_columns] = scaler.transform(val_df[numerical_columns])\n",
    "test_df[numerical_columns] = scaler.transform(test_df[numerical_columns])"
   ],
   "outputs": []
  },
  {
   "cell_type": "code",
   "execution_count": null,
   "metadata": {
    "id": "us0SCtVijuoq"
   },
   "source": [
    "# define model inputs\n",
    "categorical_input = layers.Input(shape=(len(categorical_columns),), name=\"categorical_input\")\n",
    "numerical_input = layers.Input(shape=(len(numerical_columns),), name=\"numerical_input\")\n",
    "boolean_input = layers.Input(shape=(len(boolean_columns),), name=\"boolean_input\")"
   ],
   "outputs": []
  },
  {
   "cell_type": "code",
   "execution_count": null,
   "metadata": {
    "id": "bdPT7F0PV1Nf"
   },
   "source": [
    "# embedding layers for categorical inputs\n",
    "embedding_dim = 16\n",
    "embedded_categorical = layers.Embedding(\n",
    "    input_dim=train_df[categorical_columns].max().max() + 1, output_dim=embedding_dim\n",
    ")(categorical_input)\n",
    "flattened_categorical = layers.Flatten()(embedded_categorical)"
   ],
   "outputs": []
  },
  {
   "cell_type": "code",
   "execution_count": null,
   "metadata": {
    "id": "OlVgx3_VV69v"
   },
   "source": [
    "# dense layers for numerical inputs\n",
    "numerical_dense = layers.Dense(32, activation='relu')(numerical_input)"
   ],
   "outputs": []
  },
  {
   "cell_type": "code",
   "execution_count": null,
   "metadata": {
    "id": "N3KsFlUQOvvO"
   },
   "source": [
    "# dense layers for boolean inputs (treated as numerical)\n",
    "boolean_dense = layers.Dense(16, activation='relu')(boolean_input)"
   ],
   "outputs": []
  },
  {
   "cell_type": "code",
   "execution_count": null,
   "metadata": {
    "id": "EXcwC7fvkC47"
   },
   "source": [
    "# concatenate all features\n",
    "concatenated = layers.Concatenate()([flattened_categorical, numerical_dense, boolean_dense])\n",
    "\n",
    "x = layers.Dense(64, activation='relu')(concatenated)\n",
    "x = layers.Dropout(0.3)(x)\n",
    "x = layers.Dense(32, activation='relu')(x)\n",
    "output = layers.Dense(1, activation='sigmoid')(x)"
   ],
   "outputs": []
  },
  {
   "cell_type": "code",
   "execution_count": null,
   "metadata": {
    "colab": {
     "base_uri": "https://localhost:8080/",
     "height": 610
    },
    "id": "ILz9YwnqPQC0",
    "outputId": "68d5a2b3-a159-4d30-bdbc-66a27b5f5b8b"
   },
   "source": [
    "# define the model\n",
    "model = Model(inputs=[categorical_input, numerical_input, boolean_input], outputs=output)\n",
    "model.compile(optimizer='adam', loss='binary_crossentropy', metrics=[metrics.AUC(), metrics.Precision(), metrics.Recall()])\n",
    "model.summary()"
   ],
   "outputs": []
  },
  {
   "cell_type": "code",
   "execution_count": null,
   "metadata": {
    "id": "VzQNDMJeWw7L"
   },
   "source": [
    "# prepare training data\n",
    "X_train = [\n",
    "    train_df[categorical_columns].values,\n",
    "    train_df[numerical_columns].values,\n",
    "    train_df[boolean_columns].values\n",
    "]\n",
    "y_train = train_df['clicked'].values\n",
    "\n",
    "# prepare validation data\n",
    "X_val = [\n",
    "    val_df[categorical_columns].values,\n",
    "    val_df[numerical_columns].values,\n",
    "    val_df[boolean_columns].values\n",
    "]\n",
    "y_val = val_df['clicked'].values\n",
    "\n",
    "# prepare test data\n",
    "X_test = [\n",
    "    test_df[categorical_columns].values,\n",
    "    test_df[numerical_columns].values,\n",
    "    test_df[boolean_columns].values\n",
    "]\n",
    "y_test = test_df['clicked'].values"
   ],
   "outputs": []
  },
  {
   "cell_type": "code",
   "execution_count": null,
   "metadata": {
    "id": "xrhgBbUAuM-O"
   },
   "source": [
    "# fine tuning\n",
    "# calculate class weights to balance the dataset\n",
    "class_weights = compute_class_weight(\n",
    "    class_weight='balanced',\n",
    "    classes=np.unique(y_train),\n",
    "    y=y_train\n",
    ")\n",
    "class_weights_dict = {i: weight for i, weight in enumerate(class_weights)}"
   ],
   "outputs": []
  },
  {
   "cell_type": "code",
   "execution_count": null,
   "metadata": {
    "colab": {
     "base_uri": "https://localhost:8080/"
    },
    "id": "KMF8QlpUPgml",
    "outputId": "0beb5333-ef7a-410f-91db-7c66b586afc2"
   },
   "source": [
    "early_stopping = tf.keras.callbacks.EarlyStopping(\n",
    "    monitor='val_auc_9',\n",
    "    patience=5,\n",
    "    restore_best_weights=True,\n",
    "    mode='max'\n",
    ")\n",
    "\n",
    "# train the model\n",
    "history = model.fit(\n",
    "    X_train, y_train,\n",
    "    validation_data=(X_val, y_val),\n",
    "    epochs=20,\n",
    "    batch_size=64,\n",
    "    class_weight=class_weights_dict,\n",
    "    callbacks=[early_stopping],\n",
    "    verbose=1\n",
    ")"
   ],
   "outputs": []
  },
  {
   "cell_type": "code",
   "execution_count": null,
   "metadata": {
    "colab": {
     "base_uri": "https://localhost:8080/"
    },
    "id": "pnAHGJetXsIF",
    "outputId": "f79c1b52-3363-4cdd-edfc-65c6705601ba"
   },
   "source": [
    "# evaluate the model\n",
    "results = model.evaluate(X_test, y_test, verbose=1)\n",
    "print(f\"Test AUC: {results[1]:.4f}\")"
   ],
   "outputs": []
  },
  {
   "cell_type": "code",
   "execution_count": null,
   "metadata": {
    "colab": {
     "base_uri": "https://localhost:8080/"
    },
    "id": "qASvjKdYPmCy",
    "outputId": "67cc30ff-3a8d-48af-bead-4c2f8773af43"
   },
   "source": [
    "# predict on the test set\n",
    "test_predictions = model.predict(X_test).flatten()\n",
    "test_df['predicted_score'] = test_predictions"
   ],
   "outputs": []
  },
  {
   "cell_type": "code",
   "execution_count": null,
   "metadata": {
    "colab": {
     "base_uri": "https://localhost:8080/"
    },
    "id": "GT0bEoLInBnG",
    "outputId": "dd39d6ed-9c17-4f10-dce0-d97ae2b66f4b"
   },
   "source": [
    "test_df['predicted_score'] = test_df['predicted_score'].astype('float32')\n",
    "test_data = test_df.sort_values(by=['impression_id', 'predicted_score'], ascending=[True, False])\n",
    "print(test_df[['impression_id', 'user_id', 'article_id','clicked', 'predicted_score']])"
   ],
   "outputs": []
  },
  {
   "cell_type": "code",
   "execution_count": null,
   "metadata": {
    "id": "_P1Gg_pRd52J"
   },
   "source": [
    "test_df = test_df.dropna(subset=['clicked', 'predicted_score'])"
   ],
   "outputs": []
  },
  {
   "cell_type": "code",
   "execution_count": null,
   "metadata": {
    "id": "0V7hR5sEmWFR"
   },
   "source": [
    "#metrics\n",
    "# AUC Calculation\n",
    "def calculate_auc(data):\n",
    "    \"\"\"Calculate AUC for a given dataset.\"\"\"\n",
    "    if data['clicked'].nunique() < 2:\n",
    "        return np.nan\n",
    "    try:\n",
    "        return roc_auc_score(data['clicked'], data['predicted_score'])\n",
    "    except ValueError:\n",
    "        return np.nan\n",
    "\n",
    "# MRR Calculation\n",
    "def calculate_mrr(data):\n",
    "    \"\"\"Calculate MRR for a given dataset.\"\"\"\n",
    "    sorted_data = data.sort_values(by='predicted_score', ascending=False)\n",
    "    ranks = sorted_data['clicked'].values\n",
    "    for rank, interaction in enumerate(ranks, start=1):\n",
    "        if interaction == 1:\n",
    "            return 1 / rank\n",
    "    return 0\n",
    "\n",
    "# NDCG Calculation\n",
    "def dcg(scores, k):\n",
    "    \"\"\"Calculate Discounted Cumulative Gain.\"\"\"\n",
    "    return sum([score / np.log2(idx + 2) for idx, score in enumerate(scores[:k])])\n",
    "\n",
    "def calculate_ndcg(data, k):\n",
    "    \"\"\"Calculate NDCG for a given dataset and cutoff k.\"\"\"\n",
    "    sorted_data = data.sort_values(by='predicted_score', ascending=False)\n",
    "    ideal_sorted_data = data.sort_values(by='clicked', ascending=False)\n",
    "    dcg_k = dcg(sorted_data['clicked'].values, k)\n",
    "    idcg_k = dcg(ideal_sorted_data['clicked'].values, k)\n",
    "    return dcg_k / idcg_k if idcg_k > 0 else 0\n"
   ],
   "outputs": []
  },
  {
   "cell_type": "code",
   "execution_count": null,
   "metadata": {
    "colab": {
     "base_uri": "https://localhost:8080/"
    },
    "id": "ZkYSw7HzmkCK",
    "outputId": "28171a0d-b112-42be-8b56-2093cc8f619c"
   },
   "source": [
    "def evaluate_by_impression(test_data):\n",
    "    \"\"\"Evaluate the model using AUC, MRR, and NDCG metrics.\"\"\"\n",
    "    results = []\n",
    "    grouped = test_data.groupby('impression_id')\n",
    "\n",
    "    for impression_id, group in grouped:\n",
    "        auc = calculate_auc(group)\n",
    "        mrr = calculate_mrr(group)\n",
    "        ndcg3 = calculate_ndcg(group, 3)\n",
    "        ndcg5 = calculate_ndcg(group, 5)\n",
    "        ndcg10 = calculate_ndcg(group, 10)\n",
    "\n",
    "        # Append the result as a dictionary\n",
    "        results.append({\n",
    "            'impression_id': impression_id,\n",
    "            'AUC': auc,\n",
    "            'MRR': mrr,\n",
    "            'NDCG@3': ndcg3,\n",
    "            'NDCG@5': ndcg5,\n",
    "            'NDCG@10': ndcg10\n",
    "        })\n",
    "\n",
    "    results_df = pd.DataFrame(results)\n",
    "    return results_df.dropna()\n",
    "\n",
    "# Evaluate the model\n",
    "results = evaluate_by_impression(test_df)\n",
    "print(results)"
   ],
   "outputs": []
  },
  {
   "cell_type": "code",
   "execution_count": null,
   "metadata": {
    "colab": {
     "base_uri": "https://localhost:8080/"
    },
    "id": "QJIC23LLql7c",
    "outputId": "2d425168-5e74-4848-eca8-fd3effe49ca5"
   },
   "source": [
    "# Calculate mean metrics\n",
    "mean_metrics = {\n",
    "      'Mean AUC': results['AUC'].mean(),\n",
    "      'Mean MRR': results['MRR'].mean(),\n",
    "      'Mean NDCG@3': results['NDCG@3'].mean(),\n",
    "      'Mean NDCG@5': results['NDCG@5'].mean(),\n",
    "      'Mean NDCG@10': results['NDCG@10'].mean()\n",
    "}\n",
    "\n",
    "print(\"Mean Metrics:\")\n",
    "for metric, value in mean_metrics.items():\n",
    "    print(f\"{metric}: {value:.4f}\")"
   ],
   "outputs": []
  },
  {
   "cell_type": "code",
   "execution_count": null,
   "metadata": {
    "colab": {
     "base_uri": "https://localhost:8080/"
    },
    "id": "c7_gxITQpiyx",
    "outputId": "ff5c6ac3-01d4-415c-b7a1-187fd24d39da"
   },
   "source": [
    "for k in [3, 5, 10]:\n",
    "    unique_values = results[f'NDCG@{k}'].nunique()\n",
    "    print(f\"Unique NDCG@{k} scores: {unique_values}\")"
   ],
   "outputs": []
  },
  {
   "cell_type": "code",
   "execution_count": null,
   "metadata": {
    "colab": {
     "base_uri": "https://localhost:8080/",
     "height": 1000
    },
    "id": "KZsB1EqqtENt",
    "outputId": "908c3add-0d78-4f77-8647-9ca76924fe34"
   },
   "source": [
    "# plotting Results\n",
    "def plot_metrics_distribution(results, metric, color, bins=20):\n",
    "    \"\"\"Plot the distribution of a metric.\"\"\"\n",
    "    plt.figure(figsize=(8, 6))\n",
    "    sns.histplot(results[metric].dropna(), kde=True, color=color, bins=bins)\n",
    "    plt.title(f\"{metric} Distribution Across Sessions\")\n",
    "    plt.xlabel(metric)\n",
    "    plt.ylabel(\"Frequency\")\n",
    "    plt.grid(axis='y')\n",
    "    plt.show()\n",
    "\n",
    "# plot Distributions\n",
    "hist_plot = {\n",
    "    'AUC': 'skyblue',\n",
    "    'MRR': 'salmon',\n",
    "\n",
    "}\n",
    "\n",
    "for metric, color in hist_plot.items():\n",
    "    plot_metrics_distribution(results, metric, color)\n",
    "\n",
    "bar_plot = {\n",
    "    'NDCG@3': 'lightgreen',\n",
    "    'NDCG@5': 'orange',\n",
    "    'NDCG@10': 'purple'\n",
    "}\n",
    "\n",
    "\n",
    "for metric, color in bar_plot.items():\n",
    "    # NDCG@10 Distribution as a Bar Plot\n",
    "    counts = results[metric].value_counts().sort_index()\n",
    "    plt.figure(figsize=(8, 6))\n",
    "    sns.barplot(x=counts.index, y=counts.values, color=color)\n",
    "    plt.title(f\"{metric} Distribution Across Sessions\")\n",
    "    plt.xlabel(f\"{metric} Score\")\n",
    "    plt.ylabel(\"Frequency\")\n",
    "    plt.xticks(rotation=45)\n",
    "    plt.show()\n"
   ],
   "outputs": []
  },
  {
   "cell_type": "code",
   "execution_count": null,
   "metadata": {
    "id": "FfFaK1HZXZ7n"
   },
   "source": [],
   "outputs": []
  }
 ],
 "metadata": {
  "accelerator": "GPU",
  "colab": {
   "gpuType": "L4",
   "machine_shape": "hm",
   "provenance": []
  },
  "kernelspec": {
   "display_name": "bt4222",
   "language": "python",
   "name": "python3"
  },
  "language_info": {
   "codemirror_mode": {
    "name": "ipython",
    "version": 3
   },
   "file_extension": ".py",
   "mimetype": "text/x-python",
   "name": "python",
   "nbconvert_exporter": "python",
   "pygments_lexer": "ipython3",
   "version": "3.12.4"
  }
 },
 "nbformat": 4,
 "nbformat_minor": 0
}
